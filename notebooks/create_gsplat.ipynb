{
 "cells": [
  {
   "cell_type": "code",
   "execution_count": 1,
   "metadata": {},
   "outputs": [],
   "source": [
    "# Some useful settings for interactive work\n",
    "%load_ext autoreload\n",
    "%autoreload 2\n",
    "\n",
    "%matplotlib widget"
   ]
  },
  {
   "cell_type": "code",
   "execution_count": 2,
   "metadata": {},
   "outputs": [
    {
     "name": "stdout",
     "output_type": "stream",
     "text": [
      "Jupyter environment detected. Enabling Open3D WebVisualizer.\n",
      "[Open3D INFO] WebRTC GUI backend enabled.\n",
      "[Open3D INFO] WebRTCWindowSystem: HTTP handshake server disabled.\n"
     ]
    }
   ],
   "source": [
    "import render.capture_generation as pg\n",
    "import numpy as np"
   ]
  },
  {
   "cell_type": "code",
   "execution_count": 11,
   "metadata": {},
   "outputs": [],
   "source": [
    "TTarc,TTsfm = pg.generate_gsplat('scene004','iphone15pro')"
   ]
  },
  {
   "cell_type": "code",
   "execution_count": null,
   "metadata": {},
   "outputs": [],
   "source": [
    "for i in range(10):\n",
    "    Tw2c,Tp2c = TTarc[i],TTsfm[i]\n",
    "    print(Tw2c[0:3,0:3]@Tw2c[0:3,0:3].T)\n",
    "    print(Tp2c[0:3,0:3]@Tp2c[0:3,0:3].T)\n",
    "    print(\"-----------------\")\n",
    "    # Tc2w = np.linalg.inv(Tw2c)\n",
    "    # Tp2w = Tc2w@Tp2c\n",
    "\n",
    "    # print(np.around(Tp2w,3))"
   ]
  }
 ],
 "metadata": {
  "kernelspec": {
   "display_name": "figs",
   "language": "python",
   "name": "python3"
  },
  "language_info": {
   "codemirror_mode": {
    "name": "ipython",
    "version": 3
   },
   "file_extension": ".py",
   "mimetype": "text/x-python",
   "name": "python",
   "nbconvert_exporter": "python",
   "pygments_lexer": "ipython3",
   "version": "3.10.16"
  }
 },
 "nbformat": 4,
 "nbformat_minor": 2
}
