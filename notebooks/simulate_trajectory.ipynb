{
 "cells": [
  {
   "cell_type": "code",
   "execution_count": null,
   "metadata": {},
   "outputs": [],
   "source": [
    "# Some useful settings for interactive work\n",
    "%load_ext autoreload\n",
    "%autoreload 2\n",
    "\n",
    "%matplotlib widget"
   ]
  },
  {
   "cell_type": "code",
   "execution_count": 2,
   "metadata": {},
   "outputs": [],
   "source": [
    "# Importing the necessary libraries\n",
    "import numpy as np\n",
    "import visualize.plot_trajectories as pt\n",
    "import visualize.generate_videos as gv\n",
    "\n",
    "from figs import FiGS\n",
    "from control.vehicle_rate_mpc import VehicleRateMPC"
   ]
  },
  {
   "cell_type": "code",
   "execution_count": 3,
   "metadata": {},
   "outputs": [],
   "source": [
    "scene_name   = 'scene004'\n",
    "rollout_type = 'baseline'\n",
    "frame_name   = 'carl'\n",
    "policy_name  = 'vrmpc_fr'\n",
    "course_name  = 'cluttered001'"
   ]
  },
  {
   "cell_type": "code",
   "execution_count": null,
   "metadata": {},
   "outputs": [],
   "source": [
    "test = FiGS(scene_name, rollout_type, frame_name)"
   ]
  },
  {
   "cell_type": "code",
   "execution_count": 7,
   "metadata": {},
   "outputs": [],
   "source": [
    "# Load the policy\n",
    "policy = VehicleRateMPC(policy_name,frame_name,course_name)\n",
    "\n",
    "t0,tf,x0 = policy.tXUd[0,0],policy.tXUd[0,-1],policy.tXUd[1:11,0]\n",
    "Tro,Xro,Uro,Imgs,Tsol,_ = test.simulate(policy,t0,tf,x0,cleanup=True)\n",
    "\n",
    "policy.clear_generated_code()\n",
    "del policy"
   ]
  },
  {
   "cell_type": "code",
   "execution_count": null,
   "metadata": {},
   "outputs": [],
   "source": [
    "# Generate the video\n",
    "hz = int(1/(Tro[1]-Tro[0]))\n",
    "gv.images_to_mp4(Imgs, 'output.mp4', hz)\n",
    "\n",
    "# Plot the results\n",
    "pt.plot_RO_spatial((Tro,Xro,Uro))"
   ]
  }
 ],
 "metadata": {
  "kernelspec": {
   "display_name": "figs",
   "language": "python",
   "name": "python3"
  },
  "language_info": {
   "codemirror_mode": {
    "name": "ipython",
    "version": 3
   },
   "file_extension": ".py",
   "mimetype": "text/x-python",
   "name": "python",
   "nbconvert_exporter": "python",
   "pygments_lexer": "ipython3",
   "version": "3.10.16"
  }
 },
 "nbformat": 4,
 "nbformat_minor": 2
}
