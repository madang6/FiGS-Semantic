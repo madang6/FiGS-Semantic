{
 "cells": [
  {
   "cell_type": "code",
   "execution_count": 1,
   "metadata": {},
   "outputs": [],
   "source": [
    "# Some useful settings for interactive work\n",
    "%load_ext autoreload\n",
    "%autoreload 2\n",
    "\n",
    "%matplotlib widget"
   ]
  },
  {
   "cell_type": "code",
   "execution_count": 2,
   "metadata": {},
   "outputs": [],
   "source": [
    "# Importing the necessary libraries\n",
    "import figs.visualize.plot_trajectories as pt\n",
    "import figs.visualize.generate_videos as gv\n",
    "\n",
    "from figs.simulator import Simulator\n",
    "from figs.control.vehicle_rate_mpc import VehicleRateMPC"
   ]
  },
  {
   "cell_type": "code",
   "execution_count": 3,
   "metadata": {},
   "outputs": [],
   "source": [
    "# FiGS settings (scene_name, course_name)\n",
    "examples = [\n",
    "    ('flightroom', 'extended_traj_track'),\n",
    "    ('backroom', 'cluttered_env_track'),\n",
    "    ('mid_gate', 'robustness_track'),\n",
    "    ('src_open', 'infinity')\n",
    "]"
   ]
  },
  {
   "cell_type": "code",
   "execution_count": null,
   "metadata": {},
   "outputs": [],
   "source": [
    "for scene, course in examples:\n",
    "    print(\"=============================================================\")\n",
    "    print(f\"Simulating {scene} scene with {course} course\")\n",
    "    print(\"-------------------------------------------------------------\")\n",
    "\n",
    "    # Load the policy and simulator\n",
    "    policy = VehicleRateMPC(course)\n",
    "    sim = Simulator(scene)\n",
    "\n",
    "    # Use the ideal trajectory in VehicleRateMPC to get initial conditions and final time\n",
    "    t0,tf,x0 = policy.tXUd[0,0],policy.tXUd[0,-1],policy.tXUd[1:11,0]\n",
    "\n",
    "    # Simulate the policy\n",
    "    Tro,Xro,Uro,Imgs,Tsol,_ = sim.simulate(policy,t0,tf,x0)\n",
    "\n",
    "    # Output the results\n",
    "    gv.images_to_mp4(Imgs,course+'_'+scene+'.mp4', policy.hz)       # Save the video\n",
    "    pt.plot_RO_spatial((Tro,Xro,Uro))                               # Plot the spatial trajectory\n",
    "\n",
    "    # Clear the memory of the policy to avoid improper re-initialization of ACADOS\n",
    "    del policy"
   ]
  }
 ],
 "metadata": {
  "kernelspec": {
   "display_name": "figs",
   "language": "python",
   "name": "python3"
  },
  "language_info": {
   "codemirror_mode": {
    "name": "ipython",
    "version": 3
   },
   "file_extension": ".py",
   "mimetype": "text/x-python",
   "name": "python",
   "nbconvert_exporter": "python",
   "pygments_lexer": "ipython3",
   "version": "3.10.16"
  }
 },
 "nbformat": 4,
 "nbformat_minor": 2
}
